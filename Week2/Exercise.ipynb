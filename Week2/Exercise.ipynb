{
 "cells": [
  {
   "cell_type": "markdown",
   "metadata": {},
   "source": [
    "# Problem 1: Write a function thats input is a number and output is:\n",
    "* Return True if the input number is even.\n",
    "* Return False if the input number is odd."
   ]
  },
  {
   "cell_type": "code",
   "execution_count": 3,
   "metadata": {
    "scrolled": true
   },
   "outputs": [],
   "source": [
    "# Solve problem 1 here\n",
    "\n",
    "def parity(num):\n",
    "    if(num%2==0):\n",
    "        return True\n",
    "    else:\n",
    "        return False\n",
    "\n"
   ]
  },
  {
   "cell_type": "markdown",
   "metadata": {},
   "source": [
    "# Problem 2: Find the sum and the average of this list of numbers.\n",
    "\n",
    "Try doing this using a loop.  Then try doing this without using a loop. "
   ]
  },
  {
   "cell_type": "code",
   "execution_count": 5,
   "metadata": {},
   "outputs": [
    {
     "name": "stdout",
     "output_type": "stream",
     "text": [
      "353 35.3\n"
     ]
    }
   ],
   "source": [
    "# Solve problem 2 here:\n",
    "\n",
    "my_list = [1, 5, 10, 55, 88, 44, 42, 50, 20, 38]\n",
    "list_sum = 0\n",
    "for num in my_list:\n",
    "    list_sum+=num\n",
    "list_avg = list_sum/len(my_list)\n",
    "\n",
    "\n",
    "# Keep this as your last line in this cell.\n",
    "print(list_sum, list_avg)"
   ]
  },
  {
   "cell_type": "markdown",
   "metadata": {},
   "source": [
    "# Problem 3:  Using a dictionary, count the words in this sentence. \n",
    "* Hint, you can use `.split()` to split a string into a list. "
   ]
  },
  {
   "cell_type": "code",
   "execution_count": 12,
   "metadata": {},
   "outputs": [
    {
     "data": {
      "text/plain": [
       "{'The': 3,\n",
       " 'Oklahoma': 4,\n",
       " 'City': 2,\n",
       " 'Zoo': 2,\n",
       " 'and': 6,\n",
       " 'Botanical': 1,\n",
       " 'Garden': 1,\n",
       " 'is': 4,\n",
       " 'a': 1,\n",
       " 'zoo': 2,\n",
       " 'botanical': 1,\n",
       " 'garden': 1,\n",
       " 'located': 1,\n",
       " 'in': 2,\n",
       " \"City's\": 1,\n",
       " 'Adventure': 1,\n",
       " 'District': 1,\n",
       " 'northeast': 1,\n",
       " 'City,': 1,\n",
       " 'Oklahoma.': 1,\n",
       " 'covers': 1,\n",
       " '119': 1,\n",
       " 'acres': 1,\n",
       " '(48': 1,\n",
       " 'ha)': 1,\n",
       " 'home': 1,\n",
       " 'to': 1,\n",
       " 'more': 1,\n",
       " 'than': 1,\n",
       " '1,900': 1,\n",
       " 'animals.': 1,\n",
       " 'It': 1,\n",
       " 'open': 1,\n",
       " 'every': 1,\n",
       " 'day': 1,\n",
       " 'except': 1,\n",
       " 'Thanksgiving,': 1,\n",
       " 'Christmas,': 1,\n",
       " 'New': 1,\n",
       " \"Year's\": 1,\n",
       " 'Day.': 1,\n",
       " 'an': 1,\n",
       " 'accredited': 1,\n",
       " 'member': 1,\n",
       " 'of': 3,\n",
       " 'the': 2,\n",
       " 'Association': 1,\n",
       " 'Zoos': 1,\n",
       " 'Aquariums': 1,\n",
       " 'American': 1,\n",
       " 'Alliance': 1,\n",
       " 'Museums.': 1}"
      ]
     },
     "execution_count": 12,
     "metadata": {},
     "output_type": "execute_result"
    }
   ],
   "source": [
    "# Solve problem 3 here:\n",
    "\n",
    "my_string = '''The Oklahoma City Zoo and Botanical Garden is a zoo and botanical garden located in Oklahoma City's Adventure District in northeast Oklahoma City, Oklahoma. The zoo covers 119 acres (48 ha) and is home to more than 1,900 animals. It is open every day except Thanksgiving, Christmas, and New Year's Day. The Oklahoma City Zoo is an accredited member of the Association of Zoos and Aquariums and the American Alliance of Museums.'''\n",
    "words=my_string.split()\n",
    "wordsDict=dict()\n",
    "for word in words:\n",
    "    wordsDict.update({word:0})\n",
    "for word in words:\n",
    "    wordsDict.update({word:(wordsDict.get(word)+1)})\n",
    "wordsDict"
   ]
  },
  {
   "cell_type": "markdown",
   "metadata": {},
   "source": [
    "# Problem 4: Write a function that input is a number and output returns the following\n",
    "* If the input is divisible by three, return 'fizz'\n",
    "* If the input is divisible by five, return 'buzz'\n",
    "* If the input is divisible by three and by five, return 'fizzbuzz'\n",
    "* If the input is not divisible by three or five, return None."
   ]
  },
  {
   "cell_type": "code",
   "execution_count": 2,
   "metadata": {},
   "outputs": [
    {
     "data": {
      "text/plain": [
       "'fizzbuzz'"
      ]
     },
     "execution_count": 2,
     "metadata": {},
     "output_type": "execute_result"
    }
   ],
   "source": [
    "# Solve Problem 4 here:\n",
    "\n",
    "def funct(num):\n",
    "    if num%3==0 and num%5==0:\n",
    "        return 'fizzbuzz'\n",
    "    elif num%3==0:\n",
    "        return 'fizz'\n",
    "    elif num%5==0:\n",
    "        return 'buzz'\n",
    "    else:\n",
    "        return None\n",
    "    \n",
    "funct(15)\n",
    "    "
   ]
  },
  {
   "cell_type": "markdown",
   "metadata": {},
   "source": [
    "# Problem 5: \n",
    "Write a function that takes a list and returns a new list that contains all the elements of the first list minus all the duplicates.\n",
    "\n",
    "Example input and expected output\n",
    "\n",
    "input = [\"Michele\", \"Robin\", \"Sara\", \"Michele\"]\n",
    "\n",
    "expected output = ['Michele', 'Robin', 'Sara']\n"
   ]
  },
  {
   "cell_type": "code",
   "execution_count": 32,
   "metadata": {},
   "outputs": [
    {
     "data": {
      "text/plain": [
       "['Michele', 'Robin', 'Sara']"
      ]
     },
     "execution_count": 32,
     "metadata": {},
     "output_type": "execute_result"
    }
   ],
   "source": [
    "# Solve problem 5 here:\n",
    "\n",
    "def remove_dupes(input_list):\n",
    "    output_list=[]\n",
    "    for name in input_list:\n",
    "        if name not in output_list:\n",
    "            output_list.append(name)\n",
    "    return output_list\n",
    "        \n",
    "names = [\"Michele\", \"Robin\", \"Sara\", \"Michele\"]\n",
    "new_list=remove_dupes(names)\n",
    "new_list\n",
    "\n",
    "    \n"
   ]
  },
  {
   "cell_type": "markdown",
   "metadata": {},
   "source": [
    "# Problem 6: \n",
    "Write a function that takes a list of numbers (for example, a = [5, 10, 15, 20, 25]) and returns a new list of only the first and last elements of the given list.\n",
    "\n",
    "Example input and expected output:\n",
    "\n",
    "input = [5, 10, 15, 20, 25]\n",
    "\n",
    "expected output = [5, 25]"
   ]
  },
  {
   "cell_type": "code",
   "execution_count": 31,
   "metadata": {},
   "outputs": [
    {
     "data": {
      "text/plain": [
       "[5, 25]"
      ]
     },
     "execution_count": 31,
     "metadata": {},
     "output_type": "execute_result"
    }
   ],
   "source": [
    "# Solve problem 6 here:\n",
    "\n",
    "def first_last(in_list):\n",
    "    return [in_list[0],in_list[-1]] \n",
    "\n",
    "input_list = [5, 10, 99, 20, 25]\n",
    "new_list=first_last(input_list)\n",
    "new_list\n"
   ]
  },
  {
   "cell_type": "markdown",
   "metadata": {},
   "source": [
    "# Problem 7:  Implement a function that takes as input three variables, and returns the largest of the three. \n",
    "Do this without using the Python max() function! \n",
    "_*Note all three input numbers will always be different, no need to account for a tie._\n",
    "\n",
    "Example input and expected output:\n",
    "\n",
    "input = your_function(1, 5, 10)\n",
    "\n",
    "expected output:  10"
   ]
  },
  {
   "cell_type": "code",
   "execution_count": 10,
   "metadata": {},
   "outputs": [],
   "source": [
    "# Solve Problem 7 here:\n",
    "\n",
    "def your_function(a, b, c):\n",
    "    if(a>b):\n",
    "        if(a>c):\n",
    "            return a\n",
    "        else:\n",
    "            return c\n",
    "    elif b>c:\n",
    "        return b\n",
    "    else:\n",
    "        return c\n",
    "    "
   ]
  },
  {
   "cell_type": "code",
   "execution_count": 11,
   "metadata": {},
   "outputs": [
    {
     "data": {
      "text/plain": [
       "10"
      ]
     },
     "execution_count": 11,
     "metadata": {},
     "output_type": "execute_result"
    }
   ],
   "source": [
    "# Test to see if your function works properly.\n",
    "your_function(1, 5, 10)\n",
    "\n"
   ]
  },
  {
   "cell_type": "code",
   "execution_count": 8,
   "metadata": {},
   "outputs": [],
   "source": [
    "! start .\n"
   ]
  },
  {
   "cell_type": "code",
   "execution_count": 9,
   "metadata": {},
   "outputs": [],
   "source": [
    "import pandas as pd\n",
    "pd.read_csv??"
   ]
  }
 ],
 "metadata": {
  "kernelspec": {
   "display_name": "Python 3",
   "language": "python",
   "name": "python3"
  },
  "language_info": {
   "codemirror_mode": {
    "name": "ipython",
    "version": 3
   },
   "file_extension": ".py",
   "mimetype": "text/x-python",
   "name": "python",
   "nbconvert_exporter": "python",
   "pygments_lexer": "ipython3",
   "version": "3.8.8"
  }
 },
 "nbformat": 4,
 "nbformat_minor": 4
}
